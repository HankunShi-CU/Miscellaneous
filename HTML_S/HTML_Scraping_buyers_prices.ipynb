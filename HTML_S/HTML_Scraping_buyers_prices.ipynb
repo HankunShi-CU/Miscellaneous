{
 "cells": [
  {
   "cell_type": "markdown",
   "metadata": {},
   "source": [
    "# HTML Scraping"
   ]
  },
  {
   "cell_type": "markdown",
   "metadata": {},
   "source": [
    "#### The url we will use is http://econpy.pythonanywhere.com/ex/001.html.\n",
    "#### We want to scrap the buyers names and prices in the url and store the data in a csv file."
   ]
  },
  {
   "cell_type": "code",
   "execution_count": 1,
   "metadata": {},
   "outputs": [],
   "source": [
    "from lxml import html\n",
    "import requests\n",
    "import numpy as np\n",
    "import csv"
   ]
  },
  {
   "cell_type": "code",
   "execution_count": 2,
   "metadata": {},
   "outputs": [],
   "source": [
    "pages=np.array(range(1,6,1))\n",
    "buyers=[]\n",
    "prices=[]"
   ]
  },
  {
   "cell_type": "code",
   "execution_count": 3,
   "metadata": {},
   "outputs": [],
   "source": [
    "for j in pages:\n",
    "    i = str(j)\n",
    "    text1 = \"http://econpy.pythonanywhere.com/ex/00\"\n",
    "    text2 = \".html\"\n",
    "    url = text1 + i + text2\n",
    "    page = requests.get(url)\n",
    "    tree = html.fromstring(page.content)\n",
    "    buyers_new = tree.xpath('//div[@title=\"buyer-name\"]/text()')\n",
    "    buyers = buyers + buyers_new\n",
    "    prices_new = tree.xpath('//span[@class=\"item-price\"]/text()')\n",
    "    prices = prices + prices_new"
   ]
  },
  {
   "cell_type": "code",
   "execution_count": 4,
   "metadata": {},
   "outputs": [],
   "source": [
    "table = np.transpose([buyers,prices])\n",
    "file = open(\"buyers_prices.csv\",\"w\")\n",
    "with file:\n",
    "    writer = csv.writer(file)\n",
    "    writer.writerow([\"buyers\",\"prices\"])\n",
    "    writer.writerows(table)"
   ]
  }
 ],
 "metadata": {
  "kernelspec": {
   "display_name": "Python 3",
   "language": "python",
   "name": "python3"
  },
  "language_info": {
   "codemirror_mode": {
    "name": "ipython",
    "version": 3
   },
   "file_extension": ".py",
   "mimetype": "text/x-python",
   "name": "python",
   "nbconvert_exporter": "python",
   "pygments_lexer": "ipython3",
   "version": "3.7.3"
  }
 },
 "nbformat": 4,
 "nbformat_minor": 2
}

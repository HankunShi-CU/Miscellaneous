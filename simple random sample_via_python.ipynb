{
 "cells": [
  {
   "cell_type": "code",
   "execution_count": 1,
   "metadata": {},
   "outputs": [
    {
     "name": "stdout",
     "output_type": "stream",
     "text": [
      "prob = 0.9936\n",
      "running time = 4.913309335708618s\n"
     ]
    }
   ],
   "source": [
    "import numpy as np\n",
    "import random as rd\n",
    "n=100000\n",
    "x=np.concatenate((np.zeros(7), np.ones(93)), axis=None)\n",
    "ind=np.zeros(n)\n",
    "import time\n",
    "start_time = time.time()\n",
    "for i in np.array(range(n)):\n",
    "        ming=rd.sample(list(x),50)\n",
    "        if min(ming)==0:\n",
    "            ind[i]=1\n",
    "print(\"prob =\",np.mean(ind))\n",
    "print(\"running time = %ss\" %(time.time()-start_time))"
   ]
  },
  {
   "cell_type": "code",
   "execution_count": null,
   "metadata": {},
   "outputs": [],
   "source": []
  },
  {
   "cell_type": "code",
   "execution_count": null,
   "metadata": {},
   "outputs": [],
   "source": []
  }
 ],
 "metadata": {
  "kernelspec": {
   "display_name": "Python 3",
   "language": "python",
   "name": "python3"
  },
  "language_info": {
   "codemirror_mode": {
    "name": "ipython",
    "version": 3
   },
   "file_extension": ".py",
   "mimetype": "text/x-python",
   "name": "python",
   "nbconvert_exporter": "python",
   "pygments_lexer": "ipython3",
   "version": "3.7.3"
  }
 },
 "nbformat": 4,
 "nbformat_minor": 2
}

{
 "cells": [
  {
   "cell_type": "markdown",
   "metadata": {},
   "source": [
    "# Simple random sample"
   ]
  },
  {
   "cell_type": "markdown",
   "metadata": {},
   "source": [
    "### code"
   ]
  },
  {
   "cell_type": "code",
   "execution_count": 1,
   "metadata": {},
   "outputs": [],
   "source": [
    "import numpy as np\n",
    "import random as rd\n",
    "import gmpy2\n",
    "n=100000\n",
    "x=np.concatenate((np.zeros(7), np.ones(93)), axis=None)\n",
    "ind=np.zeros(n)\n",
    "import time\n",
    "start_time = time.time()\n",
    "for i in np.array(range(n)):\n",
    "        ming=rd.sample(list(x),50)\n",
    "        if min(ming)==0:\n",
    "            ind[i]=1"
   ]
  },
  {
   "cell_type": "markdown",
   "metadata": {},
   "source": [
    "### result"
   ]
  },
  {
   "cell_type": "code",
   "execution_count": 2,
   "metadata": {},
   "outputs": [
    {
     "name": "stdout",
     "output_type": "stream",
     "text": [
      "simulated prob = 0.99346\n",
      "true prob = 0.99376017362995117\n",
      "running time = 4.914294958114624 s\n",
      "simulated prob = 0.99346\n",
      "true prob = 0.99376017362995117\n",
      "running time = 4.914294958114624 s\n"
     ]
    }
   ],
   "source": [
    "print(\"simulated prob =\",np.mean(ind))\n",
    "true_prob=1-gmpy2.comb(93,50)/gmpy2.comb(100,50)\n",
    "print(\"true prob =\",true_prob)\n",
    "print(\"running time = %s s\" %(time.time()-start_time))"
   ]
  }
 ],
 "metadata": {
  "kernelspec": {
   "display_name": "Python 3",
   "language": "python",
   "name": "python3"
  },
  "language_info": {
   "codemirror_mode": {
    "name": "ipython",
    "version": 3
   },
   "file_extension": ".py",
   "mimetype": "text/x-python",
   "name": "python",
   "nbconvert_exporter": "python",
   "pygments_lexer": "ipython3",
   "version": "3.7.3"
  }
 },
 "nbformat": 4,
 "nbformat_minor": 2
}
